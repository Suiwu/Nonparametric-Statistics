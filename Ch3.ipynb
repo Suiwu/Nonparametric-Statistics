{
 "cells": [
  {
   "cell_type": "code",
   "execution_count": 2,
   "id": "56767178",
   "metadata": {},
   "outputs": [
    {
     "name": "stdout",
     "output_type": "stream",
     "text": [
      "U-statistic for variance: 4.8670\n",
      "Direct sample variance (S^2): 4.8670\n"
     ]
    }
   ],
   "source": [
    "# 计算 U 统计量的样本方差\n",
    "import itertools\n",
    "import numpy as np\n",
    "# 示例数据\n",
    "data = [4.0, 7.2, 5.5, 3.1, 6.8, 9.1]\n",
    "# 1. U-统计量方法\n",
    "# 定义核函数 h(x,y) = 0.5*(x - y)^2\n",
    "def h_var(x, y):\n",
    "    return 0.5 * (x - y)**2\n",
    "n = len(data)\n",
    "m = 2  # 核函数阶数\n",
    "if n < m:\n",
    "    raise ValueError(\"Sample size must be at least m.\")\n",
    "# 使用 itertools.combinations 生成所有不重复的二元组索引\n",
    "combinations = list(itertools.combinations(range(n), m))\n",
    "h_values = [h_var(data[i], data[j]) for i, j in combinations]\n",
    "# 计算U统计量\n",
    "U_var = sum(h_values) / len(combinations)\n",
    "print(f\"U-statistic for variance: {U_var:.4f}\")\n",
    "# 2. 对比直接计算无偏样本方差\n",
    "# ddof=1 表示分母为 n-1\n",
    "direct_var = np.var(data, ddof=1)\n",
    "print(f\"Direct sample variance (S^2): {direct_var:.4f}\")\n",
    "assert np.isclose(U_var, direct_var)"
   ]
  },
  {
   "cell_type": "code",
   "execution_count": 7,
   "id": "7c98dc40",
   "metadata": {},
   "outputs": [
    {
     "name": "stdout",
     "output_type": "stream",
     "text": [
      "原始样本的 P(X < Y) 估计值: 0.7728\n",
      "95% Bootstrap 置信区间 (百分位法): (0.6987, 0.8427)\n",
      "P(X < Y) 的理论值: 0.7691\n"
     ]
    }
   ],
   "source": [
    "# 使用自助法估计P(X < Y)的95%置信区间\n",
    "import numpy as np\n",
    "from scipy.stats import norm\n",
    "rng = np.random.default_rng(seed=1) \n",
    "n = 60  # 样本X的大小\n",
    "m = 100  # 样本Y的大小\n",
    "x_sample = rng.normal(loc=0, scale=1, size=n)\n",
    "y_sample = rng.normal(loc=1, scale=1, size=m)\n",
    "# 1. 定义一个函数来计算我们的目标统计量 P(X < Y) 的估计值\n",
    "def calculate_p_xy(x_data, y_data):\n",
    "    n_local = len(x_data)\n",
    "    m_local = len(y_data)\n",
    "    if n_local == 0 or m_local == 0:\n",
    "        return 0.0 # 避免除以零\n",
    "    comparison_matrix = x_data[:, np.newaxis] < y_data\n",
    "    u_statistic = np.sum(comparison_matrix)\n",
    "    return u_statistic / (n_local * m_local)\n",
    "# 2. Bootstrap 循环\n",
    "B = 5000  # Bootstrap 重复次数\n",
    "bootstrap_results = np.empty(B) # 预先分配数组以提高效率\n",
    "for i in range(B):\n",
    "    x_star = rng.choice(x_sample, size=n, replace=True)\n",
    "    y_star = rng.choice(y_sample, size=m, replace=True)\n",
    "    bootstrap_results[i] = calculate_p_xy(x_star, y_star)\n",
    "# 3. 构建置信区间 (百分位法)\n",
    "alpha = 0.05  # 显著性水平，对于95%置信区间，alpha=0.05\n",
    "lower_bound = np.percentile(bootstrap_results, 100 * (alpha / 2))\n",
    "upper_bound = np.percentile(bootstrap_results, 100 * (1 - alpha / 2))\n",
    "# 4. 结果展示\n",
    "original_estimate = calculate_p_xy(x_sample, y_sample)\n",
    "print(f\"原始样本的 P(X < Y) 估计值: {original_estimate:.4f}\")\n",
    "# >>> 原始样本的 P(X < Y) 估计值: 0.7728\n",
    "print(f\"95% Bootstrap 置信区间 (百分位法): ({lower_bound:.4f}, {upper_bound:.4f})\")\n",
    "#>>> 95% Bootstrap 置信区间 (百分位法): (0.6987, 0.8427)\n",
    "# 计算理论值\n",
    "mean_y = np.mean(y_sample)\n",
    "std_y = np.std(y_sample)\n",
    "mean_x = np.mean(x_sample)\n",
    "std_x = np.std(x_sample)\n",
    "true_mean_z = mean_y - mean_x\n",
    "true_std_z = np.sqrt(std_y**2 + std_x**2)\n",
    "# P(Z > 0) = 1 - P(Z <= 0) = 1 - CDF(0)\n",
    "true_p_xy = 1 - norm.cdf(0, loc=true_mean_z, scale=true_std_z)\n",
    "print(f\"P(X < Y) 的理论值: {true_p_xy:.4f}\")"
   ]
  },
  {
   "cell_type": "code",
   "execution_count": 4,
   "id": "b3439743",
   "metadata": {},
   "outputs": [
    {
     "name": "stdout",
     "output_type": "stream",
     "text": [
      "原始样本的 Var(X) 估计值: 3.5477\n",
      "95% Bootstrap 置信区间 (百分位法): (1.7390, 5.5055)\n"
     ]
    }
   ],
   "source": [
    "# 使用自助法估计 Var(X) 的95%置信区间\n",
    "import numpy as np\n",
    "from scipy.stats import norm\n",
    "rng = np.random.default_rng(seed=1) \n",
    "n = 40  # 样本X的大小\n",
    "mu = 0\n",
    "sigma_sq = 4\n",
    "x_sample = rng.normal(loc=mu, scale=np.sqrt(sigma_sq), size=n)\n",
    "# 1. 定义一个函数来计算我们的目标统计量 Var(X) 的估计值\n",
    "def calculate_variance(data):\n",
    "    if len(data) < 2:\n",
    "        return 0.0  # 避免除以零或负自由度\n",
    "    return np.var(data, ddof=1)\n",
    "# 2. Bootstrap 循环\n",
    "B = 5000  # Bootstrap 重复次数\n",
    "bootstrap_results = np.empty(B) # 预先分配数组以提高效率\n",
    "for i in range(B):\n",
    "    x_star = rng.choice(x_sample, size=n, replace=True)\n",
    "    bootstrap_results[i] = calculate_variance(x_star)\n",
    "# 3. 构建置信区间 (百分位法)\n",
    "alpha = 0.05  # 显著性水平，对于95%置信区间，alpha=0.05\n",
    "lower_bound = np.percentile(bootstrap_results, 100 * (alpha / 2))\n",
    "upper_bound = np.percentile(bootstrap_results, 100 * (1 - alpha / 2))\n",
    "# 4. 结果展示\n",
    "original_estimate = calculate_variance(x_sample)\n",
    "print(f\"原始样本的 Var(X) 估计值: {original_estimate:.4f}\")\n",
    "# >>> 原始样本的 Var(X) 估计值: 3.5477\n",
    "print(f\"95% Bootstrap 置信区间 (百分位法): ({lower_bound:.4f}, {upper_bound:.4f})\")\n",
    "# >>> 95% Bootstrap 置信区间 (百分位法): (1.7390, 5.5055)"
   ]
  },
  {
   "cell_type": "code",
   "execution_count": null,
   "id": "b998f1c1",
   "metadata": {},
   "outputs": [],
   "source": []
  }
 ],
 "metadata": {
  "kernelspec": {
   "display_name": "base",
   "language": "python",
   "name": "python3"
  },
  "language_info": {
   "codemirror_mode": {
    "name": "ipython",
    "version": 3
   },
   "file_extension": ".py",
   "mimetype": "text/x-python",
   "name": "python",
   "nbconvert_exporter": "python",
   "pygments_lexer": "ipython3",
   "version": "3.9.7"
  }
 },
 "nbformat": 4,
 "nbformat_minor": 5
}
