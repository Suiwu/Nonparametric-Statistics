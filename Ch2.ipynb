{
 "cells": [
  {
   "cell_type": "code",
   "execution_count": null,
   "id": "d331e20f",
   "metadata": {},
   "outputs": [],
   "source": [
    "# Epanechnikov核的实现\n",
    "def epanechnikov(u):\n",
    "    return 0.75 * (1 - u**2) if abs(u) <= 1 else 0.0\n",
    "\n",
    "def kde_point(x, data, h):\n",
    "    # 计算x处的核密度估计值\n",
    "    n = len(data)\n",
    "    sum_of_kernels = sum(epanechnikov((x - xi) / h) for xi in data)\n",
    "    return sum_of_kernels / (n * h)\n",
    "\n",
    "# 示例：计算网格上各点的估计密度值\n",
    "# 假设 data 和 h 已定义\n",
    "# xmin, xmax = min(data), max(data)\n",
    "# xs = np.linspace(xmin, xmax, 200)\n",
    "# f_est = [kde_point(x, data, h) for x in xs]    "
   ]
  }
 ],
 "metadata": {
  "kernelspec": {
   "display_name": "base",
   "language": "python",
   "name": "python3"
  },
  "language_info": {
   "codemirror_mode": {
    "name": "ipython",
    "version": 3
   },
   "file_extension": ".py",
   "mimetype": "text/x-python",
   "name": "python",
   "nbconvert_exporter": "python",
   "pygments_lexer": "ipython3",
   "version": "3.9.7"
  }
 },
 "nbformat": 4,
 "nbformat_minor": 5
}
